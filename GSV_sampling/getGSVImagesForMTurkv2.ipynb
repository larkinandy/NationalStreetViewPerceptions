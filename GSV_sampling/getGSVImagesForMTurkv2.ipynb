{
 "cells": [
  {
   "cell_type": "markdown",
   "metadata": {},
   "source": [
    "# getGSVImagesForMTurkv2 #\n",
    "<br>\n",
    "\n",
    "**Summary:** downloadGSVImages, select a subset of images to meet target ranges for a combination of categories, and remove images that were flagged during visual inspection <br>\n",
    "**Author:** Andrew Larkin <br>\n",
    "**Date Created:** Dec 21, 2020 <br>\n",
    "**Affiliation:** Oregon State University, College of Health"
   ]
  },
  {
   "cell_type": "code",
   "execution_count": 1,
   "metadata": {},
   "outputs": [],
   "source": [
    "import pandas as ps\n",
    "import os\n",
    "import streetview\n",
    "import numpy as np\n",
    "import time\n",
    "import random\n",
    "import wget"
   ]
  },
  {
   "cell_type": "code",
   "execution_count": 2,
   "metadata": {},
   "outputs": [],
   "source": [
    "PARENT_FOLDER = \"insert filepath where project files should be stored\"\n",
    "\n",
    "# super sample of GSV grid points that intersect roads\n",
    "INPUT_FILES = [\n",
    "    PARENT_FOLDER + \"mjRdsPoints.csv\",\n",
    "    PARENT_FOLDER + \"miRdsPoints.csv\",\n",
    "    PARENT_FOLDER + \"resRdsPoints.csv\"\n",
    "]\n",
    "\n",
    "# SV panoids within 10m of sampled grid points\n",
    "OUTPUT_FILES = [\n",
    "    PARENT_FOLDER + \"mjRdsSVImages.csv\",\n",
    "    PARENT_FOLDER + \"miRdsSVImages.csv\",\n",
    "    PARENT_FOLDER + \"resRdsSVImages.csv\"\n",
    "]\n",
    "\n",
    "# SV panoids with adjustments to compass direction so straight images are looking directly down the center of the road\n",
    "COMPASS_FILES = [\n",
    "    PARENT_FOLDER + \"mjRdsSVImagesCompass.csv\",\n",
    "    PARENT_FOLDER + \"miRdsSVImagesCompass.csv\",\n",
    "    PARENT_FOLDER + \"resRdsSVImagesCompass.csv\"\n",
    "]\n",
    "IMAGE_FOLDER = PARENT_FOLDER + \"SV_Images/\"\n",
    "SCREENED_IMAGE_FOLDER = PARENT_FOLDER + \"SV_Images_Screened/\"\n",
    "IMGS_TO_REMOVE = PARENT_FOLDER + \"imgsToRemove.csv\"\n",
    "DISTANCE_THRESHOLD = 10 # maximum allowable difference between images for same location, in meters\n",
    "API_KEY = 'inesrt api key here'\n",
    "\n",
    "# sample sizes for each ABCD classification level. \n",
    "# A: Census division (1: new england, 2: middle atlantic, 3: east north central, 4: west north central,\n",
    "#                     5: south atlantic, 6: east south central, 7: west south central, 8: mountain, 9: pacific)\n",
    "# B: Urbanization level (1: urban center, 2: urban cluster: 3: rural)\n",
    "# C: Road type (1: primary, 2: secondary/tertiary, 3: residential)\n",
    "# D: Viewing angle (1: straight, 2: side)\n",
    "sampleCodeSizes = {\n",
    "    \n",
    "    # urban centers\n",
    "    '1130':1300,\n",
    "    '2130':1300,\n",
    "    '3130':1300,\n",
    "    '4130':1300,\n",
    "    '5130':1300,\n",
    "    '6130':1300,\n",
    "    '7130':1300,\n",
    "    '8130':1300,\n",
    "    '9130':1300,\n",
    "    '1120':1300,\n",
    "    '2120':1300,\n",
    "    '3120':1300,\n",
    "    '4120':1300,\n",
    "    '5120':1300,\n",
    "    '6120':1300,\n",
    "    '7120':1300,\n",
    "    '8120':1300,\n",
    "    '9120':1300,\n",
    "    '1110':350,\n",
    "    '2110':350,\n",
    "    '3110':350,\n",
    "    '4110':350,\n",
    "    '5110':350,\n",
    "    '6110':350,\n",
    "    '7110':350,\n",
    "    '8110':350,\n",
    "    '9110':350,\n",
    "    # urban clusters\n",
    "    '1230':750,\n",
    "    '2230':750,\n",
    "    '3230':750,\n",
    "    '4230':750,\n",
    "    '5230':750,\n",
    "    '6230':750,\n",
    "    '7230':750,\n",
    "    '8230':750,\n",
    "    '9230':750,\n",
    "    '1220':750,\n",
    "    '2220':750,\n",
    "    '3220':750,\n",
    "    '4220':750,\n",
    "    '5220':750,\n",
    "    '6220':750,\n",
    "    '7220':750,\n",
    "    '8220':750,\n",
    "    '9220':750,\n",
    "    '1210':300,\n",
    "    '2210':300,\n",
    "    '3210':300,\n",
    "    '4210':300,\n",
    "    '5210':300,\n",
    "    '6210':300,\n",
    "    '7210':300,\n",
    "    '8210':300,\n",
    "    '9210':300,\n",
    "    # rural\n",
    "    '1330':300,\n",
    "    '2330':300,\n",
    "    '3330':300,\n",
    "    '4330':300,\n",
    "    '5330':300,\n",
    "    '6330':300,\n",
    "    '7330':300,\n",
    "    '8330':300,\n",
    "    '9330':300,\n",
    "    '1320':300,\n",
    "    '2320':300,\n",
    "    '3320':300,\n",
    "    '4320':300,\n",
    "    '5320':300,\n",
    "    '6320':300,\n",
    "    '7320':300,\n",
    "    '8320':300,\n",
    "    '9320':300,\n",
    "    '1310':150,\n",
    "    '2310':150,\n",
    "    '3310':150,\n",
    "    '4310':150,\n",
    "    '5310':150,\n",
    "    '6310':150,\n",
    "    '7310':150,\n",
    "    '8310':150,\n",
    "    '9310':150   \n",
    "}"
   ]
  },
  {
   "cell_type": "markdown",
   "metadata": {},
   "source": [
    "## Part 1: Get GSV Metadata and Determine Sample ###"
   ]
  },
  {
   "cell_type": "markdown",
   "metadata": {},
   "source": [
    "### calculate distance in meters beween a set of coordinates and a reference location using the haversine formula ###\n",
    "#### for more details see https://en.wikipedia.org/wiki/Haversine_formula ####\n",
    "**Inputs:** <br>\n",
    "- **latVector** (float array) - latitude coordinates of sampled GSV panoids\n",
    "- **lonVector** (float array) - longitude coordinates of sampled GSV panoids\n",
    "- **latStd** (float array) - latitude coordinates of reference locations\n",
    "- **lonStd** (float array) - longitude coordinates of reference locations <br>\n",
    "\n",
    "**Outputs:** <br>\n",
    "- array of distances from panoids and reference locations"
   ]
  },
  {
   "cell_type": "code",
   "execution_count": 3,
   "metadata": {},
   "outputs": [],
   "source": [
    "def calcDistance(latVector,lonVector,latStd,lonStd):\n",
    "    R = 6371000 # radius of the earth\n",
    "    phi1 = np.radians(latVector)\n",
    "    phi2 = np.radians(latStd)\n",
    "    deltaPhi = np.radians(latStd-latVector)\n",
    "    deltaLambda = np.radians(lonStd-lonVector)\n",
    "    a = np.sin(deltaPhi/2)*np.sin(deltaPhi/2) + np.cos(phi1) * np.cos(phi2) * np.sin(deltaLambda/2) * np.sin(deltaLambda/2);\n",
    "    c = 2 * np.arctan2(np.sqrt(a), np.sqrt(1-a))\n",
    "    d = R * c\n",
    "    return(d)"
   ]
  },
  {
   "cell_type": "markdown",
   "metadata": {},
   "source": [
    "### for a single location, identify closest image within distance threshold for each year ###\n",
    "**Inputs:**\n",
    "- **pandDict** (dictionary) - panoids and metadata returned when querying the GSV API for a single location\n",
    "- **locId** (string) - unique identifier for the location sent to the GSV API\n",
    "- **distThreshold** (int) - maximum acceptable distance between a GSV panoids and the location send to the GSV API\n",
    "**Outputs:**\n",
    "- **tempDict** (dictionary) - metadata for the nearest panoid that is also within the distThreshold"
   ]
  },
  {
   "cell_type": "code",
   "execution_count": 1,
   "metadata": {},
   "outputs": [],
   "source": [
    "\n",
    "def getClosestImgForSingleLoc(pandDict,locId,distThreshold=10):\n",
    "    pandDF = ps.DataFrame(pandDict)\n",
    "    closestImgIndex = pandDF['dist'].argmin()\n",
    "    #uniqueYears = set(pandDict['year'])\n",
    "    imgLat,imgLon,imgPan,impageLon,imgMonth,imgYear,imgDist,locAr = [[] for i in range(8)]\n",
    "    curRecord = pandDF.iloc[closestImgIndex]\n",
    "    if(curRecord['dist'] <= distThreshold):\n",
    "        imgLat.append(curRecord['lat'])\n",
    "        imgLon.append(curRecord['lon'])\n",
    "        imgPan.append(curRecord['panId'])\n",
    "        imgYear.append(curRecord['year'])\n",
    "        imgMonth.append(curRecord['month'])\n",
    "        imgDist.append(curRecord['dist'])\n",
    "        locAr.append(locId)\n",
    "    tempDict = {\n",
    "        'locId':locId,\n",
    "        'imgLat':imgLat,\n",
    "        'imgLon':imgLon,\n",
    "        'imgYear':imgYear,\n",
    "        'imgMonth':imgMonth,\n",
    "        'panId':imgPan,\n",
    "        'dist':imgDist\n",
    "    }\n",
    "    return(tempDict)"
   ]
  },
  {
   "cell_type": "markdown",
   "metadata": {},
   "source": [
    "### for a single reference location, identify the nearest panoid and return the panoid metadata ###\n",
    "**Inputs:**\n",
    "- **locId** (string) - unique identifier for the reference location\n",
    "- **panoids** (string array) - unique identifiers for panoids returned by GSV API\n",
    "- **inputLat** (float array) - latitude coordinates for panoids returned by GSV API\n",
    "- **inputLong** (float array) - longitude coordinates for panoids returned by GSV API\n",
    "- **distThreshold** (int) - maximum allowable distance between panoids and the reference location <br>\n",
    "\n",
    "**Outputs:**\n",
    "- **tempDict** (dictionary) - contains metadata of the nearest panoid within the distThreshold distance"
   ]
  },
  {
   "cell_type": "code",
   "execution_count": 5,
   "metadata": {},
   "outputs": [],
   "source": [
    "def extractYearAndDiffs(locId,panoids,inputLat,inputLon,distThreshold):\n",
    "    index, diffTime,lat,lon,year,month,panId,dist= [[] for i in range(8)]\n",
    "    numWithoutYear = 0\n",
    "    for panIndex in range(len(panoids)):\n",
    "        try:\n",
    "            year.append(panoids[panIndex]['year'])\n",
    "            month.append(panoids[panIndex]['month'])\n",
    "            lat.append(panoids[panIndex]['lat'])\n",
    "            lon.append(panoids[panIndex]['lon'])\n",
    "            panId.append(panoids[panIndex]['panoid'])\n",
    "        # this exception is almost always because there is no meatadata for the year being analyzed\n",
    "        except Exception as e: \n",
    "            numWithoutYear +=1\n",
    "            #print(\"couldn't create df: %s\" %(str(e)))\n",
    "    pandDict = {\n",
    "        'lat':np.array(lat),\n",
    "        'lon':np.array(lon),\n",
    "        'year':np.array(year),\n",
    "        'panId':np.array(panId),\n",
    "        'month':np.array(month)\n",
    "    }\n",
    "    # calculate distance between reference coordinates and image coordinates\n",
    "    pandDict['dist'] = calcDistance(pandDict['lat'],pandDict['lon'],inputLat,inputLon)\n",
    "    tempDict = getClosestImgForSingleLoc(\n",
    "        pandDict,\n",
    "        locId,\n",
    "        distThreshold\n",
    "    )\n",
    "    return(tempDict)"
   ]
  },
  {
   "cell_type": "markdown",
   "metadata": {},
   "source": [
    "### for all reference locations, identify images close enough to reference coodinates to be considered the 'same location', and collect metadata for the nerest image for each year ###\n",
    "**Inputs:** <br>\n",
    "- **coords** (pandas dataframe) - latitude and longitude coordinates for reference locations\n",
    "- **distThreshold** (int) - maximum allowable distance between reference location and a representative panoid\n",
    "- **nToSample** (int) - number of panoids to sample.  Return results once this value is reached\n",
    "- **sampleCode** (int) - unique 4 digit code for each sample classification type (see cell 2 above) <br>\n",
    "\n",
    "**Outputs:** <br>\n",
    "- **outputDF** (pandas dataframe) - contains panoids, metadata, and corresponding refrence location identifier for all sampled panoids\n",
    "\n"
   ]
  },
  {
   "cell_type": "code",
   "execution_count": 6,
   "metadata": {},
   "outputs": [],
   "source": [
    "\n",
    "def selectBestImages(coords,distThreshold,nToSample,sampleCode):\n",
    "    outputDF = ps.DataFrame({})\n",
    "    nSampled,coordIndex = 0,0\n",
    "    viewingDigit = 1\n",
    "    while(nSampled < nToSample and coordIndex < coords.count()[0]):\n",
    "        downloadedFirstImg = True\n",
    "        latImgLocations, longImgLocations = [],[]\n",
    "        numTries,numLocations = 0,0\n",
    "        curRecord = coords.iloc[coordIndex]\n",
    "        panoids = streetview.panoids(lat=curRecord['Lat'], lon=curRecord['Lon'])\n",
    "        try:\n",
    "            tempDF = ps.DataFrame(extractYearAndDiffs(\n",
    "                curRecord['OID_'],\n",
    "                panoids,\n",
    "                curRecord['Lat'],\n",
    "                curRecord['Lon'],\n",
    "                distThreshold\n",
    "            ))\n",
    "            if(tempDF.count()[0] >0):\n",
    "                tempDF['sampleCode'] = sampleCode + viewingDigit%2 +1\n",
    "                nSampled +=1\n",
    "                viewingDigit +=1\n",
    "                outputDF = tempDF if len(outputDF.keys()) == 0 else outputDF.append(tempDF)\n",
    "        except Exception as e:\n",
    "            a = 1\n",
    "        coordIndex +=1\n",
    "        time.sleep(0.0001) # metadata, can be small\n",
    "    return(outputDF)"
   ]
  },
  {
   "cell_type": "markdown",
   "metadata": {},
   "source": [
    "### given a single 4 digit sample classification identifier, query the GSV API and sample the alloted number of panoids \n",
    "**Inputs:**\n",
    "- **GIS_data** (pandas dataframe) - contains latitude, longitude, and metadata of reference locations\n",
    "- **sampleCode** (int) - unique 4 digit code for each sample classification type (see cell 2 above)\n",
    "- **roadType** (int) - unique 1 digit code for each road type (see cell 2 above) <br>\n",
    "\n",
    "**Outputs:**\n",
    "- **imageMeta** (pandas dataframe) - contains panoids, metadata, and corresponding reference ids for sampled locations"
   ]
  },
  {
   "cell_type": "code",
   "execution_count": 7,
   "metadata": {},
   "outputs": [],
   "source": [
    "def sampleSingleCategory(GIS_data,sampleCode,roadType):\n",
    "    GIS_data = GIS_data.sample(frac=1)\n",
    "    sampleData = categoryData = GIS_data[GIS_data['sampleCode']==sampleCode]\n",
    "    nToSample = nToSample = sampleCodeSizes[str(sampleCode)]\n",
    "    imageMeta = selectBestImages(sampleData,DISTANCE_THRESHOLD,nToSample,sampleCode)\n",
    "    imageMeta['urban'] = np.ones((imageMeta.count()[0],1),dtype=np.int16)*list(sampleData['urban'])[0]\n",
    "    imageMeta['division'] = np.ones((imageMeta.count()[0],1),dtype=np.int16)*list(sampleData['DIVISION'])[0]\n",
    "    imageMeta['roadType'] = np.ones((imageMeta.count()[0],1),dtype=np.int16)*roadType\n",
    "    print(\"completed sample code %i\" %(sampleCode))\n",
    "    return(imageMeta)"
   ]
  },
  {
   "cell_type": "markdown",
   "metadata": {},
   "source": [
    "### sample all 4 digit sample classifications for a single road type ###\n",
    "**Inputs:**\n",
    "- **GIS_data** (pandas dataframe) - contains latitude, longitude, and metadata of reference locations\n",
    "- **roadType** (int) - road type to sample (primary, secondary/tertiary, or residential) <br>\n",
    "\n",
    "**Outputs:**\n",
    "- **SV_Images** (pandas dataframe) - contains panoids, metadata, and corresponding reference ids for sampled locations"
   ]
  },
  {
   "cell_type": "code",
   "execution_count": 8,
   "metadata": {},
   "outputs": [],
   "source": [
    "def sampleAllCategories(GIS_data,roadType):\n",
    "    uniqueCodes = list(set(GIS_data['sampleCode']))\n",
    "    SV_Images = sampleSingleCategory(GIS_data,uniqueCodes[0],roadType)\n",
    "    for code in uniqueCodes[1:]:\n",
    "        SV_Images = SV_Images.append(sampleSingleCategory(GIS_data,code,roadType))\n",
    "    return(SV_Images)"
   ]
  },
  {
   "cell_type": "markdown",
   "metadata": {},
   "source": [
    "### given a single file with all reference locations of a given road type, load the file into memory and sample all panoids for the given road type ###\n",
    "**Inputs:**\n",
    "- **inputFile** (string) - absolute filepath to csv file containing metadata of reference locations\n",
    "- **outputFile** (string) - absolute filepath were sampled panoids and metadata should be stored\n",
    "- **roadType** (int) - road type that the inputFile is associated with (primary, secondary/tertiary, or residential)"
   ]
  },
  {
   "cell_type": "code",
   "execution_count": 9,
   "metadata": {},
   "outputs": [],
   "source": [
    "def sampleSingleFile(inputFile,outputFile,roadType):\n",
    "    rawData = ps.read_csv(inputFile)\n",
    "    screenedData = rawData[rawData['sampleCode'] >1000]\n",
    "    print(\"road type %i\" %(roadType))\n",
    "    SV_Images = sampleAllCategories(screenedData,roadType)\n",
    "    SV_Images.to_csv(outputFile,index=False)"
   ]
  },
  {
   "cell_type": "code",
   "execution_count": null,
   "metadata": {
    "scrolled": true
   },
   "outputs": [],
   "source": [
    "for index in range(3):\n",
    "    sampleSingleFile(INPUT_FILES[index],OUTPUT_FILES[index],index+1)"
   ]
  },
  {
   "cell_type": "markdown",
   "metadata": {},
   "source": [
    "## Part 2: Adjust for compass heading and download GSV images ##"
   ]
  },
  {
   "cell_type": "markdown",
   "metadata": {},
   "source": [
    "### load differences between north and road heading at panoids, calculated in ArcPro ###\n",
    "**Outputs:**\n",
    "- **allCompassData** (pandas dataframe) - contains panoid metadata and difference between north and road heading at panoid location"
   ]
  },
  {
   "cell_type": "code",
   "execution_count": 10,
   "metadata": {},
   "outputs": [],
   "source": [
    "def loadCompassData():\n",
    "    allCompassData = ps.read_csv(COMPASS_FILES[0])\n",
    "    allCompassData = allCompassData.append(ps.read_csv(COMPASS_FILES[1]))\n",
    "    allCompassData = allCompassData.append(ps.read_csv(COMPASS_FILES[2]))\n",
    "    return(allCompassData)"
   ]
  },
  {
   "cell_type": "code",
   "execution_count": 11,
   "metadata": {},
   "outputs": [
    {
     "name": "stdout",
     "output_type": "stream",
     "text": [
      "   OID_  Join_Count  TARGET_FID     locId     imgLat     imgLon  imgYear  \\\n",
      "0     1           1           1   98124.0  40.172046 -75.873372     2019   \n",
      "1     2           1           2  606663.0  44.866249 -73.449893     2019   \n",
      "2     3           1           3  737073.0  40.779632 -78.857581     2009   \n",
      "3     4           1           4  255543.0  41.234240 -75.790555     2012   \n",
      "4     5           1           5  188685.0  43.778818 -73.799070     2019   \n",
      "\n",
      "   imgMonth                   panId      dist  sampleCode  urban  division  \\\n",
      "0        10  wKku7JX9oLkYwqUh__KSKQ  1.007087        2312      3         2   \n",
      "1         7  2Yx-Q0olEsjx65z-xE8Wog  2.497234        2311      3         2   \n",
      "2         7  ZH1fSO2nyQbRXznFoXaVKw  2.434273        2312      3         2   \n",
      "3         4  da_ZMkAiRJF7CgGj4Z-qTQ  5.491468        2311      3         2   \n",
      "4         7  wksq-PLNXyuua30xVXy2SQ  1.109623        2312      3         2   \n",
      "\n",
      "   roadType  compassHeading  \n",
      "0         1      351.517670  \n",
      "1         1      343.643219  \n",
      "2         1       23.604380  \n",
      "3         1      221.217789  \n",
      "4         1       20.991724  \n",
      "OID_              49440\n",
      "Join_Count        49440\n",
      "TARGET_FID        49440\n",
      "locId             49440\n",
      "imgLat            49440\n",
      "imgLon            49440\n",
      "imgYear           49440\n",
      "imgMonth          49440\n",
      "panId             49440\n",
      "dist              49440\n",
      "sampleCode        49440\n",
      "urban             49440\n",
      "division          49440\n",
      "roadType          49440\n",
      "compassHeading    49440\n",
      "dtype: int64\n"
     ]
    }
   ],
   "source": [
    "compassData = loadCompassData()\n",
    "print(compassData.head())\n",
    "print(compassData.count())"
   ]
  },
  {
   "cell_type": "markdown",
   "metadata": {},
   "source": [
    "### for a single panoid, randomly 1 of 2 viewing angles, and return the compass heading needed to download an image directly straight or looking to the side of the road ###\n",
    "**Inputs:**\n",
    "- **origHeading** - original viewing angle for downloading an image that looks directly ahead on the road \n",
    "- **sampleCode** - 1 if downloaded image should look straight ahead or behind, 2 if the downloaded image should look direclty to the left or right of the road <br>\n",
    "\n",
    "**Outpus:**\n",
    "- **cat** (string) - the viewing angle, straight or side\n",
    "- **downloadHeading** (float) - the heading to send to the GSV API for downloading the image at the desired viewing angle"
   ]
  },
  {
   "cell_type": "code",
   "execution_count": 12,
   "metadata": {},
   "outputs": [],
   "source": [
    "def adjustOneHeading(origHeading,sampleCode):\n",
    "    cat = \"straight\" if sampleCode %2 == 1 else \"side\"\n",
    "    downloadHeading = int((origHeading + (sampleCode%2 +1)*90)%360)\n",
    "    return([cat,downloadHeading])"
   ]
  },
  {
   "cell_type": "markdown",
   "metadata": {},
   "source": [
    "### for all panoids, adjust the headings to download the desired viewing angle ###\n",
    "**Inputs:**\n",
    "- **compassData** (pandas dataframe) - contains panoid metadata and difference between north and road heading at panoid location \n",
    "\n",
    "**Outputs:**\n",
    "- the input dataframe with two additional fields, the downloaded viewing angle and the heading that should be sent to the GSV API"
   ]
  },
  {
   "cell_type": "code",
   "execution_count": 13,
   "metadata": {},
   "outputs": [],
   "source": [
    "def adjustAllHeadings(compassData):\n",
    "    viewAngle,adjHeading = [],[]\n",
    "    for rowIndex in range(compassData.count()[0]):\n",
    "        curRecord = compassData.iloc[rowIndex]\n",
    "        tempAngle,tempHeading = adjustOneHeading(curRecord['compassHeading'],curRecord['sampleCode'])\n",
    "        viewAngle.append(tempAngle)\n",
    "        adjHeading.append(tempHeading)\n",
    "    compassData['viewingAngle'] = viewAngle\n",
    "    compassData['adjHeading'] = adjHeading\n",
    "    return(compassData)"
   ]
  },
  {
   "cell_type": "markdown",
   "metadata": {},
   "source": [
    "### using predefined naming conventions, determine the filename for a downloaded GSV image.  Filename should include the panoid and compass heading\n",
    "**Inputs:**\n",
    "- **compassData** (pandas dataframe) - contains panoid metadata and compass heading to send to the GSV API\n",
    "\n",
    "**Outputs:** \n",
    "- the input dataframe with an additional field, the filename for the downloaded GSV image."
   ]
  },
  {
   "cell_type": "code",
   "execution_count": 14,
   "metadata": {},
   "outputs": [],
   "source": [
    "def calcOutputFilename(compassData):\n",
    "    outputFilenames = []\n",
    "    for rowIndex in range(compassData.count()[0]):\n",
    "        curRecord = compassData.iloc[rowIndex]\n",
    "        outputFilenames.append(curRecord['panId'] + \"_\" + str(curRecord['adjHeading']) + \".jpg\")\n",
    "    compassData['filename'] = outputFilenames\n",
    "    return(compassData)"
   ]
  },
  {
   "cell_type": "markdown",
   "metadata": {},
   "source": [
    "### given download parameters, create a string for a RESTful Street View API query ###\n",
    "**Inputs:**\n",
    "- **panid** (string) - unique identifier for the panorama to sample and download from\n",
    "- **heading** (int) - compass heading that corresponds to the desired viewing angle\n",
    "**Outputs:**\n",
    "- **combinedString** (string) - the full query to send to the Street View API\n"
   ]
  },
  {
   "cell_type": "code",
   "execution_count": 25,
   "metadata": {},
   "outputs": [],
   "source": [
    "def createDownloadString(panid,heading):\n",
    "    baseString = \"https://maps.googleapis.com/maps/api/streetview?size=640x640\"\n",
    "    locString = \"&pano=\" + str(panid)\n",
    "    headingString = \"&heading=\" + str(heading)\n",
    "    apiString = \"&key=\" + str(API_KEY)\n",
    "    combinedString = baseString + locString + headingString + apiString\n",
    "    return(combinedString)"
   ]
  },
  {
   "cell_type": "markdown",
   "metadata": {},
   "source": [
    "### determine the absolute filepath to store a downloaded GSV image ###\n",
    "**Inputs:**\n",
    "- **panid** (string) - unique identifier of the panoid\n",
    "- **heading** (int) - compass heading that corresponds to the desired viewing angle \n",
    "\n",
    "**Outputs:**\n",
    "- the abolute filepath where the downloaded image should be stored"
   ]
  },
  {
   "cell_type": "code",
   "execution_count": null,
   "metadata": {},
   "outputs": [],
   "source": [
    "def createDownloadFilepath(panid,heading):\n",
    "    return(OUTPUT_FOLDER + panid + \"_\" + str(heading) + \".jpg\")"
   ]
  },
  {
   "cell_type": "markdown",
   "metadata": {},
   "source": [
    "### query the GSV API and download images ###\n",
    "**Inputs:**\n",
    "- **compassData** (pandas dataframe) - contains panoids and compass headings for GSV RESTful queries\n",
    "- **numToDownload** (int) - number of images to try to download.  Useful to stay within account/budget limits"
   ]
  },
  {
   "cell_type": "code",
   "execution_count": 23,
   "metadata": {},
   "outputs": [],
   "source": [
    "def downloadData(compassData,numToDownload):\n",
    "    numDownloaded=0\n",
    "    for rowIndex in range(compassData.count()[0]):\n",
    "        curRecord = compassData.iloc[rowIndex]\n",
    "        outputFilepath = IMAGE_FOLDER + curRecord['filename']\n",
    "        if not(os.path.exists(outputFilepath)) and numDownloaded < numToDownload:\n",
    "            try:\n",
    "                downloadUrl = createDownloadString(curRecord['panId'],curRecord['adjHeading'])\n",
    "                wget.download(downloadUrl,outputFilepath)\n",
    "                numDownloaded+=1\n",
    "            except Exception as e:\n",
    "                print(\"couldn't download image: \" + outputFilepath + str(e))  "
   ]
  },
  {
   "cell_type": "markdown",
   "metadata": {},
   "source": [
    "## Part 3: Remove images from dataset that were flagged during visual inspection ##"
   ]
  },
  {
   "cell_type": "code",
   "execution_count": 28,
   "metadata": {},
   "outputs": [],
   "source": [
    "compassData = adjustAllHeadings(compassData)\n",
    "compassData = calcOutputFilename(compassData)\n",
    "compassData = ps.read_csv(PARENT_FOLDER + \"GSV_Img_Meta.csv\")\n",
    "compassData.to_csv(PARENT_FOLDER + \"GSV_Img_Meta.csv\")\n",
    "downloadData(compassData,20000)\n",
    "compassData.head()"
   ]
  },
  {
   "cell_type": "code",
   "execution_count": null,
   "metadata": {},
   "outputs": [],
   "source": [
    "imgsToRemove = list(ps.read_csv(IMGS_TO_REMOVE)['dud imgids'])\n",
    "for img in imgsToRemove:\n",
    "    try:\n",
    "        os.remove(SCREENED_IMAGE_FOLDER + img + \".jpg\")\n",
    "    except Exception as e:\n",
    "        print(str(e))"
   ]
  },
  {
   "cell_type": "code",
   "execution_count": 22,
   "metadata": {},
   "outputs": [
    {
     "name": "stdout",
     "output_type": "stream",
     "text": [
      "                   dud imgids                        filename\n",
      "0  q-fTZKEn8dQBjrPuIoB1Tg_195  q-fTZKEn8dQBjrPuIoB1Tg_195.jpg\n",
      "1    InMWxv0047x8PJCB1uV__g_0    InMWxv0047x8PJCB1uV__g_0.jpg\n",
      "2  JauYOD1VQv1vYbm9a4LRug_245  JauYOD1VQv1vYbm9a4LRug_245.jpg\n",
      "3  rkq1KGRSFX91O34DGgnS0Q_240  rkq1KGRSFX91O34DGgnS0Q_240.jpg\n",
      "4  AHAIO4GprjBJu8PvygLB6A_258  AHAIO4GprjBJu8PvygLB6A_258.jpg\n"
     ]
    }
   ],
   "source": [
    "compassData = ps.read_csv(PARENT_FOLDER + \"GSV_Img_Meta.csv\")\n",
    "compassData.head()\n",
    "imgsToRemove = ps.read_csv(IMGS_TO_REMOVE)\n",
    "imgsToRemove['filename'] = imgsToRemove['dud imgids'] + \".jpg\"\n",
    "print(imgsToRemove.head())\n",
    "compassData2 = compassData[~compassData['filename'].isin(list(imgsToRemove['filename']))]\n",
    "compassData2.to_csv(PARENT_FOLDER + \"/GSV_screened_images.csv\")"
   ]
  },
  {
   "cell_type": "code",
   "execution_count": 24,
   "metadata": {},
   "outputs": [
    {
     "data": {
      "text/html": [
       "<div>\n",
       "<style scoped>\n",
       "    .dataframe tbody tr th:only-of-type {\n",
       "        vertical-align: middle;\n",
       "    }\n",
       "\n",
       "    .dataframe tbody tr th {\n",
       "        vertical-align: top;\n",
       "    }\n",
       "\n",
       "    .dataframe thead th {\n",
       "        text-align: right;\n",
       "    }\n",
       "</style>\n",
       "<table border=\"1\" class=\"dataframe\">\n",
       "  <thead>\n",
       "    <tr style=\"text-align: right;\">\n",
       "      <th></th>\n",
       "      <th>Unnamed: 0</th>\n",
       "      <th>OID_</th>\n",
       "      <th>Join_Count</th>\n",
       "      <th>TARGET_FID</th>\n",
       "      <th>locId</th>\n",
       "      <th>imgLat</th>\n",
       "      <th>imgLon</th>\n",
       "      <th>imgYear</th>\n",
       "      <th>imgMonth</th>\n",
       "      <th>panId</th>\n",
       "      <th>dist</th>\n",
       "      <th>sampleCode</th>\n",
       "      <th>urban</th>\n",
       "      <th>division</th>\n",
       "      <th>roadType</th>\n",
       "      <th>compassHeading</th>\n",
       "      <th>viewingAngle</th>\n",
       "      <th>adjHeading</th>\n",
       "      <th>filename</th>\n",
       "    </tr>\n",
       "  </thead>\n",
       "  <tbody>\n",
       "    <tr>\n",
       "      <th>0</th>\n",
       "      <td>0</td>\n",
       "      <td>1</td>\n",
       "      <td>1</td>\n",
       "      <td>1</td>\n",
       "      <td>98124.0</td>\n",
       "      <td>40.172046</td>\n",
       "      <td>-75.873372</td>\n",
       "      <td>2019</td>\n",
       "      <td>10</td>\n",
       "      <td>wKku7JX9oLkYwqUh__KSKQ</td>\n",
       "      <td>1.007087</td>\n",
       "      <td>2312</td>\n",
       "      <td>3</td>\n",
       "      <td>2</td>\n",
       "      <td>1</td>\n",
       "      <td>351.517670</td>\n",
       "      <td>side</td>\n",
       "      <td>81</td>\n",
       "      <td>wKku7JX9oLkYwqUh__KSKQ_81.jpg</td>\n",
       "    </tr>\n",
       "    <tr>\n",
       "      <th>1</th>\n",
       "      <td>1</td>\n",
       "      <td>2</td>\n",
       "      <td>1</td>\n",
       "      <td>2</td>\n",
       "      <td>606663.0</td>\n",
       "      <td>44.866249</td>\n",
       "      <td>-73.449893</td>\n",
       "      <td>2019</td>\n",
       "      <td>7</td>\n",
       "      <td>2Yx-Q0olEsjx65z-xE8Wog</td>\n",
       "      <td>2.497234</td>\n",
       "      <td>2311</td>\n",
       "      <td>3</td>\n",
       "      <td>2</td>\n",
       "      <td>1</td>\n",
       "      <td>343.643219</td>\n",
       "      <td>straight</td>\n",
       "      <td>163</td>\n",
       "      <td>2Yx-Q0olEsjx65z-xE8Wog_163.jpg</td>\n",
       "    </tr>\n",
       "    <tr>\n",
       "      <th>2</th>\n",
       "      <td>2</td>\n",
       "      <td>3</td>\n",
       "      <td>1</td>\n",
       "      <td>3</td>\n",
       "      <td>737073.0</td>\n",
       "      <td>40.779632</td>\n",
       "      <td>-78.857581</td>\n",
       "      <td>2009</td>\n",
       "      <td>7</td>\n",
       "      <td>ZH1fSO2nyQbRXznFoXaVKw</td>\n",
       "      <td>2.434273</td>\n",
       "      <td>2312</td>\n",
       "      <td>3</td>\n",
       "      <td>2</td>\n",
       "      <td>1</td>\n",
       "      <td>23.604380</td>\n",
       "      <td>side</td>\n",
       "      <td>113</td>\n",
       "      <td>ZH1fSO2nyQbRXznFoXaVKw_113.jpg</td>\n",
       "    </tr>\n",
       "    <tr>\n",
       "      <th>3</th>\n",
       "      <td>3</td>\n",
       "      <td>4</td>\n",
       "      <td>1</td>\n",
       "      <td>4</td>\n",
       "      <td>255543.0</td>\n",
       "      <td>41.234240</td>\n",
       "      <td>-75.790555</td>\n",
       "      <td>2012</td>\n",
       "      <td>4</td>\n",
       "      <td>da_ZMkAiRJF7CgGj4Z-qTQ</td>\n",
       "      <td>5.491468</td>\n",
       "      <td>2311</td>\n",
       "      <td>3</td>\n",
       "      <td>2</td>\n",
       "      <td>1</td>\n",
       "      <td>221.217789</td>\n",
       "      <td>straight</td>\n",
       "      <td>41</td>\n",
       "      <td>da_ZMkAiRJF7CgGj4Z-qTQ_41.jpg</td>\n",
       "    </tr>\n",
       "    <tr>\n",
       "      <th>4</th>\n",
       "      <td>4</td>\n",
       "      <td>5</td>\n",
       "      <td>1</td>\n",
       "      <td>5</td>\n",
       "      <td>188685.0</td>\n",
       "      <td>43.778818</td>\n",
       "      <td>-73.799070</td>\n",
       "      <td>2019</td>\n",
       "      <td>7</td>\n",
       "      <td>wksq-PLNXyuua30xVXy2SQ</td>\n",
       "      <td>1.109623</td>\n",
       "      <td>2312</td>\n",
       "      <td>3</td>\n",
       "      <td>2</td>\n",
       "      <td>1</td>\n",
       "      <td>20.991724</td>\n",
       "      <td>side</td>\n",
       "      <td>110</td>\n",
       "      <td>wksq-PLNXyuua30xVXy2SQ_110.jpg</td>\n",
       "    </tr>\n",
       "  </tbody>\n",
       "</table>\n",
       "</div>"
      ],
      "text/plain": [
       "   Unnamed: 0  OID_  Join_Count  TARGET_FID     locId     imgLat     imgLon  \\\n",
       "0           0     1           1           1   98124.0  40.172046 -75.873372   \n",
       "1           1     2           1           2  606663.0  44.866249 -73.449893   \n",
       "2           2     3           1           3  737073.0  40.779632 -78.857581   \n",
       "3           3     4           1           4  255543.0  41.234240 -75.790555   \n",
       "4           4     5           1           5  188685.0  43.778818 -73.799070   \n",
       "\n",
       "   imgYear  imgMonth                   panId      dist  sampleCode  urban  \\\n",
       "0     2019        10  wKku7JX9oLkYwqUh__KSKQ  1.007087        2312      3   \n",
       "1     2019         7  2Yx-Q0olEsjx65z-xE8Wog  2.497234        2311      3   \n",
       "2     2009         7  ZH1fSO2nyQbRXznFoXaVKw  2.434273        2312      3   \n",
       "3     2012         4  da_ZMkAiRJF7CgGj4Z-qTQ  5.491468        2311      3   \n",
       "4     2019         7  wksq-PLNXyuua30xVXy2SQ  1.109623        2312      3   \n",
       "\n",
       "   division  roadType  compassHeading viewingAngle  adjHeading  \\\n",
       "0         2         1      351.517670         side          81   \n",
       "1         2         1      343.643219     straight         163   \n",
       "2         2         1       23.604380         side         113   \n",
       "3         2         1      221.217789     straight          41   \n",
       "4         2         1       20.991724         side         110   \n",
       "\n",
       "                         filename  \n",
       "0   wKku7JX9oLkYwqUh__KSKQ_81.jpg  \n",
       "1  2Yx-Q0olEsjx65z-xE8Wog_163.jpg  \n",
       "2  ZH1fSO2nyQbRXznFoXaVKw_113.jpg  \n",
       "3   da_ZMkAiRJF7CgGj4Z-qTQ_41.jpg  \n",
       "4  wksq-PLNXyuua30xVXy2SQ_110.jpg  "
      ]
     },
     "execution_count": 24,
     "metadata": {},
     "output_type": "execute_result"
    }
   ],
   "source": [
    "compassData2.head()"
   ]
  }
 ],
 "metadata": {
  "kernelspec": {
   "display_name": "Python 3 (ipykernel)",
   "language": "python",
   "name": "python3"
  },
  "language_info": {
   "codemirror_mode": {
    "name": "ipython",
    "version": 3
   },
   "file_extension": ".py",
   "mimetype": "text/x-python",
   "name": "python",
   "nbconvert_exporter": "python",
   "pygments_lexer": "ipython3",
   "version": "3.9.13"
  }
 },
 "nbformat": 4,
 "nbformat_minor": 4
}
