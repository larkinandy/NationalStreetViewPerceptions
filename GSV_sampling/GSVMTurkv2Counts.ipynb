{
 "cells": [
  {
   "cell_type": "markdown",
   "metadata": {},
   "source": [
    "# GSVMturkv2Counts #\n",
    "<br>\n",
    "\n",
    "**Summary:** Count the number of GSV images per category for the dataset used for online training of the urban environment perception model <br>\n",
    "**Author:** Andrew Larkin <br>\n",
    "**Date Created:** Dec 21, 2020 <br>\n",
    "**Affiliation:** Oregon State University, College of Health\n",
    "\n",
    "#### Note: For those interested in reproducing this analysis for their own studies, using the group by function in pandas is faster and more thorougly validated than our code shown below.  ####"
   ]
  },
  {
   "cell_type": "code",
   "execution_count": 4,
   "metadata": {},
   "outputs": [],
   "source": [
    "import pandas as ps"
   ]
  },
  {
   "cell_type": "code",
   "execution_count": 5,
   "metadata": {},
   "outputs": [],
   "source": [
    "PARENT_FOLDER = 'insert parent folder here'\n",
    "SCREENED_IMGS_CSV = PARENT_FOLDER + \"GSV_screened_images.csv\"\n",
    "STATS_FOLDER = PARENT_FOLDER + \"Statistics/\"\n",
    "DIVISON_CSV = STATS_FOLDER + \"GSV_screened_byDivision.csv\"\n",
    "ROAD_CSV = STATS_FOLDER + \"GSV_screened_byRoad.csv\"\n",
    "URBAN_CSV = STATS_FOLDER + \"GSV_screeened_byUrban.csv\"\n",
    "CODE_CSV = STATS_FOLDER + \"GSV_screened_bySampleCode.csv\"\n",
    "ANGLE_CSV = STATS_FOLDER + \"GSV_screened_byViewingAngle.csv\""
   ]
  },
  {
   "cell_type": "markdown",
   "metadata": {},
   "source": [
    "### get number of GSV images for all classification levels of one variable ###\n",
    "**Inputs:**\n",
    "- **inputData** (pandas dataframe) - contains list of all downloaded images and accompanying metadata\n",
    "- **variable** (string) - variable to stratify dataset by and count.  \n",
    "\n",
    "**Outputs:**\n",
    "- **divisionDF** (pandas dataframe) - contains counts for all classification levels of the input variable"
   ]
  },
  {
   "cell_type": "code",
   "execution_count": 3,
   "metadata": {},
   "outputs": [],
   "source": [
    "def getCountByVariable(inputData,variable):\n",
    "    uniqueDivisions = list(set(inputData[variable]))\n",
    "    count = []\n",
    "    for division in uniqueDivisions:\n",
    "        divisionData = inputData[inputData[variable]==division]\n",
    "        count.append(divisionData.count()[0])\n",
    "    divisionDF = ps.DataFrame({\n",
    "        variable:uniqueDivisions,\n",
    "        'count':count\n",
    "    })\n",
    "    return(divisionDF)"
   ]
  },
  {
   "cell_type": "markdown",
   "metadata": {},
   "source": [
    "### get number of GSV image by road type ###\n",
    "**Inputs:**\n",
    "- **inputData** (pandas dataframe) - contains list of all downloaded images and accompanying metadata\n",
    "\n",
    "**Outputs:**\n",
    "- **roadDF** (pandas dataframe) - contains counts for all road types"
   ]
  },
  {
   "cell_type": "code",
   "execution_count": 5,
   "metadata": {},
   "outputs": [],
   "source": [
    "def getCountByRoad(inputData):\n",
    "    uniqueDivisions = list(set(inputData['roadType']))\n",
    "    count = []\n",
    "    for division in uniqueDivisions:\n",
    "        divisionData = inputData[inputData['roadType']==division]\n",
    "        count.append(divisionData.count()[0])\n",
    "    roadDF = ps.DataFrame({\n",
    "        'division':uniqueDivisions,\n",
    "        'count':count\n",
    "    })\n",
    "    return(roadDF)"
   ]
  },
  {
   "cell_type": "markdown",
   "metadata": {},
   "source": [
    "### subset dataset by a classifiction level, and return the subset data and subset data size ###\n",
    "**Inputs:** \n",
    "- **rawData** (pandas dataframe) - contains list of all downloaded images and accompanying metadata\n",
    "- **cat** (string) - pandas variable name to subset data by\n",
    "- **value** (int) - varlue to filter dataset by\n",
    "\n",
    "**Outputs:**\n",
    "- **tempData** (pandas dataframe - subset of the input data\n",
    "- **tempCount** (int) - number of rows in the subset data"
   ]
  },
  {
   "cell_type": "code",
   "execution_count": 3,
   "metadata": {},
   "outputs": [],
   "source": [
    "def getSubsetCat(rawData,cat,value):\n",
    "    tempData = rawData[rawData[cat]==value]\n",
    "    tempCount = tempData.count()[0]\n",
    "    return([tempData,tempCount])"
   ]
  },
  {
   "cell_type": "markdown",
   "metadata": {},
   "source": [
    "### get number of GSV images for one urban category, stratified by viewing angle ###\n",
    "**Inputs:**\n",
    "- **rawData** (pandas dataframe) - contains list of all downloaded images and accompanying metadata\n",
    "- **value** (int) - which urban category to count images for\n",
    "\n",
    "**Outputs:**\n",
    "- **tempDF** (pandas dataframe) - number of GSV images for the urban category, stratified by straight and side viewing angles"
   ]
  },
  {
   "cell_type": "code",
   "execution_count": 21,
   "metadata": {},
   "outputs": [],
   "source": [
    "def processUrbanCat(rawData,value):\n",
    "    cat,count = [],[]\n",
    "    urbanData,urbanCount = getSubsetCat(rawData,'urban',value)\n",
    "    cat.append('urbanCore')\n",
    "    count.append(urbanCount)\n",
    "    for angle in ['straight','side']:\n",
    "        tempData,tempCount = getSubsetCat(urbanData,'viewingAngle',angle)\n",
    "        cat.append(angle)\n",
    "        count.append(tempCount)\n",
    "        for road in [1,2,3]:\n",
    "            tempData2,tempCount2 = getSubsetCat(tempData,'roadType',road)\n",
    "            cat.append(angle + str(road))\n",
    "            count.append(tempCount2)\n",
    "    tempDF = ps.DataFrame({\n",
    "        'category':cat,\n",
    "        'count':count\n",
    "    })\n",
    "    return(tempDF)"
   ]
  },
  {
   "cell_type": "code",
   "execution_count": 22,
   "metadata": {},
   "outputs": [],
   "source": [
    "def main():\n",
    "    rawData = ps.read_csv(SCREENED_IMGS_CSV)\n",
    "    divisionData = getCountByVariable(rawData,'division')\n",
    "    divisionData.to_csv(DIVISON_CSV,index=False)\n",
    "    roadData = getCountByVariable(rawData,'roadType')\n",
    "    roadData.to_csv(ROAD_CSV,index=False)\n",
    "    urbanData = getCountByVariable(rawData,'urban')\n",
    "    urbanData.to_csv(URBAN_CSV,index=False)\n",
    "    codeData = getCountByVariable(rawData,'sampleCode')\n",
    "    codeData.to_csv(CODE_CSV,index=False)\n",
    "    angleData = getCountByVariable(rawData,'viewingAngle')\n",
    "    angleData.to_csv(ANGLE_CSV,index=False)\n",
    "    "
   ]
  },
  {
   "cell_type": "code",
   "execution_count": 23,
   "metadata": {},
   "outputs": [],
   "source": [
    "main()"
   ]
  }
 ],
 "metadata": {
  "kernelspec": {
   "display_name": "Python 3 (ipykernel)",
   "language": "python",
   "name": "python3"
  },
  "language_info": {
   "codemirror_mode": {
    "name": "ipython",
    "version": 3
   },
   "file_extension": ".py",
   "mimetype": "text/x-python",
   "name": "python",
   "nbconvert_exporter": "python",
   "pygments_lexer": "ipython3",
   "version": "3.9.13"
  }
 },
 "nbformat": 4,
 "nbformat_minor": 4
}
