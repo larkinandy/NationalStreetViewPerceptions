{
 "cells": [
  {
   "cell_type": "markdown",
   "id": "8657cf10",
   "metadata": {},
   "source": [
    "# CalcMTurkDiffs #\n",
    "<br>\n",
    "\n",
    "**Summary:** Calculate difference in perceptions between Amazon Mechanical Turk (MTurk) participants, stratified by geography and demographics <br>\n",
    "**Author:** Andrew Larkin <br>\n",
    "**Date Created:** Aug 2nd, 2023 <br>\n",
    "**Affiliation:** Oregon State University, College of Health"
   ]
  },
  {
   "cell_type": "code",
   "execution_count": 1,
   "id": "5ed28b3f",
   "metadata": {},
   "outputs": [],
   "source": [
    "import pandas as ps"
   ]
  },
  {
   "cell_type": "code",
   "execution_count": 2,
   "id": "dcb0481d",
   "metadata": {},
   "outputs": [
    {
     "name": "stdout",
     "output_type": "stream",
     "text": [
      "                     image_id  psp_code  gis_code\n",
      "0   wKku7JX9oLkYwqUh__KSKQ_81     33344      2312\n",
      "1  2Yx-Q0olEsjx65z-xE8Wog_163     42434      2311\n",
      "2  ZH1fSO2nyQbRXznFoXaVKw_113     44213      2312\n",
      "3   da_ZMkAiRJF7CgGj4Z-qTQ_41     12433      2311\n",
      "4  wksq-PLNXyuua30xVXy2SQ_110     21413      2312\n",
      "49145\n"
     ]
    }
   ],
   "source": [
    "PARENT_FOLDER = 'insert absolute filepath to folder where files are stored'\n",
    "image_meta = ps.read_csv(PARENT_FOLDER + \"meta_link.csv\")\n",
    "print(image_meta.head())\n",
    "print(image_meta.count()[0])"
   ]
  },
  {
   "cell_type": "code",
   "execution_count": 3,
   "id": "69d76c62",
   "metadata": {},
   "outputs": [
    {
     "name": "stdout",
     "output_type": "stream",
     "text": [
      "                        l_img                       r_img  vote  vote_norm  \\\n",
      "0  ZKdv7hpLZQqgmBfn7Ssesg_325  ZBIOyKV2TwDW92xDn2099A_186     1 -30.083333   \n",
      "1  AKZQPDCGlaRgrb1ycEv-sQ_312  woAr_Xst6xKbUoTy9PaW3g_226    99  25.083333   \n",
      "2  VCpz7BUH4mn92HPhVEp9cg_318  fvTSslWM2jmNcEnBzLVQ_Q_149    71  19.716049   \n",
      "3   etX1pIb6ALZyhC0BihdfHw_30  Zg4Lu80vPCV8HbQ4FcGtIg_181     1 -33.716049   \n",
      "4   6taBIQR0cErHoITbGQyq0A_90  jJI22KXOnXuSUDiJe5MQ4w_177    69  26.694444   \n",
      "\n",
      "        label  geo1  geo2  urban_compare  road_compare  angle_compare  ...  \\\n",
      "0      beauty    17     3              3             1              1  ...   \n",
      "1   safe_walk    11     1              3             4              0  ...   \n",
      "2      nature    10    10              3             4              0  ...   \n",
      "3  safe_crime     5     9              1             3              1  ...   \n",
      "4  safe_crime     4     4              5             4              0  ...   \n",
      "\n",
      "   ethnicity race  education covid  green_compare built_compare  \\\n",
      "0          2   WH          4    SA              2             2   \n",
      "1          2   WH          5    AG              8             6   \n",
      "2          2   WH          4    DI              2             8   \n",
      "3          2   WH          4    DI              0             3   \n",
      "4          0   AS          3    AG              6             1   \n",
      "\n",
      "   v_roads_compare  access_compare  trees_compare  hit_division  \n",
      "0                1               5              3             9  \n",
      "1                7               3              8             4  \n",
      "2                0               5              9             7  \n",
      "3                4               3              2             7  \n",
      "4                9               2              6             8  \n",
      "\n",
      "[5 rows x 22 columns]\n",
      "121764\n",
      "               l_img  r_img   vote  vote_norm  label   geo1   geo2  \\\n",
      "urban_compare                                                        \n",
      "0              30602  30602  30602      30602  30602  30602  30602   \n",
      "1              27223  27223  27223      27223  27223  27223  27223   \n",
      "2              18149  18149  18149      18149  18149  18149  18149   \n",
      "3              24296  24296  24296      24296  24296  24296  24296   \n",
      "4              15318  15318  15318      15318  15318  15318  15318   \n",
      "5               6176   6176   6176       6176   6176   6176   6176   \n",
      "\n",
      "               road_compare  angle_compare    age  ...  ethnicity   race  \\\n",
      "urban_compare                                      ...                     \n",
      "0                     30602          30602  30602  ...      30602  30564   \n",
      "1                     27223          27223  27223  ...      27223  27200   \n",
      "2                     18149          18149  18149  ...      18149  18133   \n",
      "3                     24296          24296  24296  ...      24296  24274   \n",
      "4                     15318          15318  15318  ...      15318  15304   \n",
      "5                      6176           6176   6176  ...       6176   6168   \n",
      "\n",
      "               education  covid  green_compare  built_compare  \\\n",
      "urban_compare                                                   \n",
      "0                  30602  30602          30602          30602   \n",
      "1                  27223  27223          27223          27223   \n",
      "2                  18149  18149          18149          18149   \n",
      "3                  24296  24296          24296          24296   \n",
      "4                  15318  15318          15318          15318   \n",
      "5                   6176   6176           6176           6176   \n",
      "\n",
      "               v_roads_compare  access_compare  trees_compare  hit_division  \n",
      "urban_compare                                                                \n",
      "0                        30602           30602          30602         30602  \n",
      "1                        27223           27223          27223         27223  \n",
      "2                        18149           18149          18149         18149  \n",
      "3                        24296           24296          24296         24296  \n",
      "4                        15318           15318          15318         15318  \n",
      "5                         6176            6176           6176          6176  \n",
      "\n",
      "[6 rows x 21 columns]\n"
     ]
    }
   ],
   "source": [
    "mturk = ps.read_csv(PARENT_FOLDER + \"mturk_May11_21.csv\")\n",
    "print(mturk.head())\n",
    "print(mturk.count()[0])\n",
    "print(mturk.groupby('urban_compare').count())"
   ]
  },
  {
   "cell_type": "markdown",
   "id": "207c9b51",
   "metadata": {},
   "source": [
    "### given a 4 digit classification code, extract the urban classification value from the second digit\n",
    "**Inputs:**\n",
    "- **code** (int) - 4 digit classification code\n",
    "\n",
    "**Outputs:**\n",
    "- **urbanNum** (int) - number indicating whether the code corresponds to an urban center, urban cluster, or other location"
   ]
  },
  {
   "cell_type": "code",
   "execution_count": 4,
   "id": "6120b7d8",
   "metadata": {},
   "outputs": [],
   "source": [
    "def getUrbanFromCode(code):\n",
    "    urbanNum = str(code)[1]\n",
    "    return(urbanNum)"
   ]
  },
  {
   "cell_type": "markdown",
   "id": "54337fa1",
   "metadata": {},
   "source": [
    "### given a 4 digit classification code, extract the census division number from the first digit ###\n",
    "**Inputs:**\n",
    "- **code** (int) - 4 digit classification code\n",
    "\n",
    "**Outputs:**\n",
    "- **division** (int) - number indicating which US census division the code corresponds to"
   ]
  },
  {
   "cell_type": "code",
   "execution_count": 5,
   "id": "94348c6a",
   "metadata": {},
   "outputs": [],
   "source": [
    "def getDivisionFromCode(code):\n",
    "    division = str(code)[0]\n",
    "    return(division)"
   ]
  },
  {
   "cell_type": "markdown",
   "id": "375c3adb",
   "metadata": {},
   "source": [
    "### extract all individual classifications from 4 digit classification codes ###\n",
    "**Inputs:**\n",
    "- **imgId** (string) - unique identifier for a Google Street View image\n",
    "- **pspCode** (int) - 5 digit classification code of PSPNet quartiles\n",
    "- **gisCode** (int) - 4 digit classification code of GIS properties\n",
    "- **score** (float) - perception score, ranging from -50 to 50\n",
    "- **userInfo** (pandas dataframe) - contains demographic information about the participant who provided the score\n",
    "\n",
    "**Outputs:**\n",
    "- **df** (pandas dataframe) - contains all individual classification extracted from the demographic dictionary and classification codes"
   ]
  },
  {
   "cell_type": "code",
   "execution_count": 6,
   "id": "065a669e",
   "metadata": {},
   "outputs": [],
   "source": [
    "def getPropertiesForImg(imgId,pspCode,gisCode,score,userInfo):\n",
    "    urban = int(str(gisCode)[1])\n",
    "    division = int(str(gisCode)[0])\n",
    "    road = int(str(gisCode)[2])\n",
    "    green = int(str(pspCode)[0])\n",
    "    built = int(str(pspCode)[1])\n",
    "    v_road = int(str(pspCode)[2])\n",
    "    access = int(str(pspCode)[3])\n",
    "    trees = int(str(pspCode)[4])\n",
    "    df = ps.DataFrame({\n",
    "        'image_id':imgId,\n",
    "        'urban':[urban],\n",
    "        'division':[division],\n",
    "        'road':[road],\n",
    "        'green':[green],\n",
    "        'built':built,\n",
    "        'v_road':v_road,\n",
    "        'trees':trees,\n",
    "        'access':access,\n",
    "        'h_division':userInfo['hit_division'],\n",
    "        'age':userInfo['age'],\n",
    "        'gender':userInfo['gender'],\n",
    "        'ethnicity':userInfo['ethnicity'],\n",
    "        'race':userInfo['race'],\n",
    "        'education':userInfo['education'],\n",
    "        'covid':userInfo['covid'],\n",
    "        'score':score\n",
    "    })\n",
    "    return(df) "
   ]
  },
  {
   "cell_type": "markdown",
   "id": "16594152",
   "metadata": {},
   "source": [
    "### create a new categorical level for instances where image comparisons are between the same classification level\n",
    "**Inputs:**\n",
    "- combined (pandas dataframe) - data extracted from a single image comparison\n",
    "\n",
    "**Outputs:**\n",
    "- input dataset, where classifications coded -1 if both images in the comparison contained the same classification level"
   ]
  },
  {
   "cell_type": "code",
   "execution_count": 7,
   "id": "678d629f",
   "metadata": {},
   "outputs": [],
   "source": [
    "def screenCombined(combined):\n",
    "    if(len(list(set(combined['urban'])))==1):\n",
    "        combined['urban']=-1\n",
    "    if(len(list(set(combined['division'])))==1):\n",
    "        combined['division']=-1\n",
    "    if(len(list(set(combined['road'])))==1):\n",
    "        combined['road']=-1\n",
    "    if(len(list(set(combined['green'])))==1):\n",
    "        combined['green']=-1\n",
    "    if(len(list(set(combined['built'])))==1):\n",
    "        combined['built']=-1\n",
    "    if(len(list(set(combined['v_road'])))==1):\n",
    "        combined['v_road']=-1\n",
    "    if(len(list(set(combined['trees'])))==1):\n",
    "        combined['trees']=-1\n",
    "    if(len(list(set(combined['access'])))==1):\n",
    "        combined['access']=-1\n",
    "    return(combined)"
   ]
  },
  {
   "cell_type": "markdown",
   "id": "8a71e525",
   "metadata": {},
   "source": [
    "### given a vote for an image comparison, assign scores to each of the 2 images in the comparison.  Winning images gets a positive magnitue score, losing image gets a negative magnitude score\n",
    "**Inputs:**\n",
    "- **vote** (float) - vote value.  <0: the left image wins.  >0: right image wins\n",
    "- **meta** (pandas dataframe) - metadata about the left and right image, including classification codes\n",
    "\n",
    "**Outputs:**\n",
    "- **combined** (pandas dataframe) - contains 2 rows, with row 1 corresponding to the left image and row 2 the right image"
   ]
  },
  {
   "cell_type": "code",
   "execution_count": 93,
   "id": "774f149b",
   "metadata": {},
   "outputs": [],
   "source": [
    "def convertVoteToImageScores(vote,meta):\n",
    "    leftImgVals = meta[meta['image_id']==vote['l_img']]\n",
    "    rightImgVals = meta[meta['image_id']==vote['r_img']]\n",
    "    leftVote = vote['vote_norm']*-1\n",
    "    rightVote = vote['vote_norm']\n",
    "    leftVals = getPropertiesForImg(\n",
    "        vote['l_img'],\n",
    "        leftImgVals['psp_code'].iloc[0],\n",
    "        leftImgVals['gis_code'].iloc[0],\n",
    "        leftVote,\n",
    "        vote\n",
    "    )\n",
    "    rightVals = getPropertiesForImg(\n",
    "        vote['r_img'],\n",
    "        rightImgVals['psp_code'].iloc[0],\n",
    "        rightImgVals['gis_code'].iloc[0],\n",
    "        rightVote,\n",
    "        vote\n",
    "    )\n",
    "    combined = ps.concat([leftVals,rightVals])\n",
    "    combined = screenCombined(combined)\n",
    "    return(combined)"
   ]
  },
  {
   "cell_type": "markdown",
   "id": "0f80c9be",
   "metadata": {},
   "source": [
    "### combine all non-binary gender specifications into an Other category.  Necessary for statistical power ###\n",
    "**Inputs:**\n",
    "- **inData** (pandas dataframe) - contains participant demographics, including self-reported gender\n",
    "\n",
    "**Outputs:**\n",
    "- **df** (pandas dataframe) - input data, with non-binary gender specification recoded as 'Other'"
   ]
  },
  {
   "cell_type": "code",
   "execution_count": 9,
   "id": "70444852",
   "metadata": {},
   "outputs": [],
   "source": [
    "def redefineGender(inData):\n",
    "    maleData = inData[inData['gender']=='Male']\n",
    "    femaleData  = inData[inData['gender']=='Female']\n",
    "    otherData = inData[~inData['gender'].isin(['Male','Female'])]\n",
    "    otherData['gender'] = 'Other'\n",
    "    df = ps.concat([maleData,femaleData,otherData])\n",
    "    return(df)"
   ]
  },
  {
   "cell_type": "markdown",
   "id": "ddba6ceb",
   "metadata": {},
   "source": [
    "### combine all other race specifications into an OT category.  Necessary for statistical power ###\n",
    "**Inputs:**\n",
    "- **inData** (pandas dataframe) - contains participant demographics, including self-reported race\n",
    "\n",
    "**Outputs:**\n",
    "- **df** (pandas dataframe) - input data, with other race specifications recoded as 'OT'"
   ]
  },
  {
   "cell_type": "code",
   "execution_count": 10,
   "id": "ed5a9aa2",
   "metadata": {},
   "outputs": [],
   "source": [
    "def redefineEthnicity(inData):\n",
    "    mainData = inData[inData['race'].isin(['WH','AI','AS','BL','NH'])]\n",
    "    otherData = inData[~inData['race'].isin(['WH','AI','AS','BL','NH'])]\n",
    "    otherData['race']= 'OT'\n",
    "    df = ps.concat([mainData,otherData])\n",
    "    return(df)"
   ]
  },
  {
   "cell_type": "markdown",
   "id": "3659abdf",
   "metadata": {},
   "source": [
    "### calculate summary statistics for each urbanicity level, stratified by a category of interest ###\n",
    "**Inputs:**\n",
    "- **inData** (pandas dataframe) - contains image scores and urban classifications \n",
    "- **cat** (string) - category to stratify summary statistics by\n",
    "- **val** (int) - specific value of the stratified category to calulcate summary statistics for\n",
    "\n",
    "**Outputs:**\n",
    "- **mean** (pandas dataframe) - contains mean, std, and n for all urbanicity levels of the stratified analysis"
   ]
  },
  {
   "cell_type": "code",
   "execution_count": 11,
   "id": "f44794f6",
   "metadata": {},
   "outputs": [],
   "source": [
    "def calcPerfByUrban(inData,cat,val):\n",
    "    mean = inData.groupby('urban',as_index=False)['score'].mean()\n",
    "    count = inData.groupby('urban',as_index=False)['score'].count()\n",
    "    std = inData.groupby('urban',as_index=False)['score'].std()\n",
    "    mean['cat'] = cat\n",
    "    mean['val'] = val\n",
    "    mean['urban'] = ['NA','urban','suburban','rural']\n",
    "    mean['std'] = std['score']\n",
    "    mean['n'] = count['score']\n",
    "    return(mean)"
   ]
  },
  {
   "cell_type": "markdown",
   "id": "881cb6b3",
   "metadata": {},
   "source": [
    "### calculate summary statistics for each road level, stratified by a category of interest ###\n",
    "**Inputs:**\n",
    "- **inData** (pandas dataframe) - contains image scores and road classifications \n",
    "- **cat** (string) - category to stratify summary statistics by\n",
    "- **val** (int) - specific value of the stratified category to calulcate summary statistics for\n",
    "\n",
    "**Outputs:**\n",
    "- **mean** (pandas dataframe) - contains mean, std, and n for all road levels of the stratified analysis"
   ]
  },
  {
   "cell_type": "code",
   "execution_count": 12,
   "id": "4421fb6d",
   "metadata": {},
   "outputs": [],
   "source": [
    "def calcPerfByRoad(inData,cat,val):\n",
    "    mean = inData.groupby('road',as_index=False)['score'].mean()\n",
    "    count = inData.groupby('road',as_index=False)['score'].count()\n",
    "    std = inData.groupby('road',as_index=False)['score'].std()\n",
    "    mean['cat'] = cat\n",
    "    mean['val'] = val\n",
    "    mean['road'] = ['NA','primary','secondary','residential']\n",
    "    mean['std'] = std['score']\n",
    "    mean['n'] = count['score']\n",
    "    return(mean)"
   ]
  },
  {
   "cell_type": "markdown",
   "id": "6b004de3",
   "metadata": {},
   "source": [
    "### calculate summary statistics for each US census division, stratified by a category of interest ###\n",
    "**Inputs:**\n",
    "- **inData** (pandas dataframe) - contains image scores and census division \n",
    "- **cat** (string) - category to stratify summary statistics by\n",
    "- **val** (int) - specific value of the stratified category to calulcate summary statistics for\n",
    "\n",
    "**Outputs:**\n",
    "- **mean** (pandas dataframe) - contains mean, std, and n for all census divisions of the stratified analysis"
   ]
  },
  {
   "cell_type": "code",
   "execution_count": 13,
   "id": "e72b6186",
   "metadata": {},
   "outputs": [],
   "source": [
    "def calcPerfByHit(inData,cat,val):\n",
    "    mean = inData.groupby('division',as_index=False)['score'].mean()\n",
    "    count = inData.groupby('division',as_index=False)['score'].count()\n",
    "    std = inData.groupby('division',as_index=False)['score'].std()\n",
    "    mean['cat'] = cat\n",
    "    mean['val'] = val\n",
    "    mean['division'] = [\n",
    "        'NA','New England','Middle Atlantic','East North Central','West North Central','South Atlantic',\n",
    "        'East South Central','West South Central','Mountain','Pacific'               \n",
    "                       ]\n",
    "    mean['std'] = std['score']\n",
    "    mean['n'] = count['score']\n",
    "    return(mean)"
   ]
  },
  {
   "cell_type": "markdown",
   "id": "ffd9abcc",
   "metadata": {},
   "source": [
    "### calculate summary statistics for each PSPNet nature quartile, stratified by a category of interest ###\n",
    "**Inputs:**\n",
    "- **inData** (pandas dataframe) - contains image scores and nature quartile classifications \n",
    "- **cat** (string) - category to stratify summary statistics by\n",
    "- **val** (int) - specific value of the stratified category to calulcate summary statistics for\n",
    "\n",
    "**Outputs:**\n",
    "- **mean** (pandas dataframe) - contains mean, std, and n for all nature quartiles of the stratified analysis"
   ]
  },
  {
   "cell_type": "code",
   "execution_count": 14,
   "id": "3ba2e056",
   "metadata": {},
   "outputs": [],
   "source": [
    "def calcPerfByGreen(inData,cat,val):\n",
    "    mean = inData.groupby('green',as_index=False)['score'].mean()\n",
    "    count = inData.groupby('green',as_index=False)['score'].count()\n",
    "    std = inData.groupby('green',as_index=False)['score'].std()\n",
    "    mean['cat'] = cat\n",
    "    mean['val'] = val\n",
    "    mean['green'] = [\n",
    "        'NA','Q1','Q2','Q3','Q4'               \n",
    "                       ]\n",
    "    mean['std'] = std['score']\n",
    "    mean['n'] = count['score']\n",
    "    return(mean)"
   ]
  },
  {
   "cell_type": "markdown",
   "id": "e1ba9f37",
   "metadata": {},
   "source": [
    "### calculate summary statistics for each PSPNet built environment quartile, stratified by a category of interest ###\n",
    "**Inputs:**\n",
    "- **inData** (pandas dataframe) - contains image scores and built environment quartile classifications \n",
    "- **cat** (string) - category to stratify summary statistics by\n",
    "- **val** (int) - specific value of the stratified category to calulcate summary statistics for\n",
    "\n",
    "**Outputs:**\n",
    "- **mean** (pandas dataframe) - contains mean, std, and n for all built environment quartiles of the stratified analysis"
   ]
  },
  {
   "cell_type": "code",
   "execution_count": 15,
   "id": "310b1c4b",
   "metadata": {},
   "outputs": [],
   "source": [
    "def calcPerfByBuilt(inData,cat,val):\n",
    "    mean = inData.groupby('built',as_index=False)['score'].mean()\n",
    "    count = inData.groupby('built',as_index=False)['score'].count()\n",
    "    std = inData.groupby('built',as_index=False)['score'].std()\n",
    "    mean['cat'] = cat\n",
    "    mean['val'] = val\n",
    "    mean['built'] = [\n",
    "        'NA','Q1','Q2','Q3','Q4'               \n",
    "                       ]\n",
    "    mean['std'] = std['score']\n",
    "    mean['n'] = count['score']\n",
    "    return(mean)"
   ]
  },
  {
   "cell_type": "markdown",
   "id": "c10acdbc",
   "metadata": {},
   "source": [
    "### calculate summary statistics for each visible road quartile, stratified by a category of interest ###\n",
    "**Inputs:**\n",
    "- **inData** (pandas dataframe) - contains image scores and visible road quartile classifications \n",
    "- **cat** (string) - category to stratify summary statistics by\n",
    "- **val** (int) - specific value of the stratified category to calulcate summary statistics for\n",
    "\n",
    "**Outputs:**\n",
    "- **mean** (pandas dataframe) - contains mean, std, and n for all visible road quartiles of the stratified analysis"
   ]
  },
  {
   "cell_type": "code",
   "execution_count": 16,
   "id": "e340fd15",
   "metadata": {},
   "outputs": [],
   "source": [
    "def calcPerfByVRoad(inData,cat,val):\n",
    "    mean = inData.groupby('v_road',as_index=False)['score'].mean()\n",
    "    count = inData.groupby('v_road',as_index=False)['score'].count()\n",
    "    std = inData.groupby('v_road',as_index=False)['score'].std()\n",
    "    mean['cat'] = cat\n",
    "    mean['val'] = val\n",
    "    mean['v_road'] = [\n",
    "        'NA','Q1','Q2','Q3','Q4'               \n",
    "                       ]\n",
    "    mean['std'] = std['score']\n",
    "    mean['n'] = count['score']\n",
    "    return(mean)"
   ]
  },
  {
   "cell_type": "markdown",
   "id": "3e3356fb",
   "metadata": {},
   "source": [
    "### calculate summary statistics for each visible tree quartile, stratified by a category of interest ###\n",
    "**Inputs:**\n",
    "- **inData** (pandas dataframe) - contains image scores and visible tree quartile classifications \n",
    "- **cat** (string) - category to stratify summary statistics by\n",
    "- **val** (int) - specific value of the stratified category to calulcate summary statistics for\n",
    "\n",
    "**Outputs:**\n",
    "- **mean** (pandas dataframe) - contains mean, std, and n for all visible tree quartiles of the stratified analysis"
   ]
  },
  {
   "cell_type": "code",
   "execution_count": 17,
   "id": "f3a93e25",
   "metadata": {},
   "outputs": [],
   "source": [
    "def calcPerfByTrees(inData,cat,val):\n",
    "    mean = inData.groupby('trees',as_index=False)['score'].mean()\n",
    "    count = inData.groupby('trees',as_index=False)['score'].count()\n",
    "    std = inData.groupby('trees',as_index=False)['score'].std()\n",
    "    mean['cat'] = cat\n",
    "    mean['val'] = val\n",
    "    mean['trees'] = [\n",
    "        'NA','Q1','Q2','Q3','Q4'               \n",
    "                       ]\n",
    "    mean['std'] = std['score']\n",
    "    mean['n'] = count['score']\n",
    "    return(mean)"
   ]
  },
  {
   "cell_type": "markdown",
   "id": "d6e304a7",
   "metadata": {},
   "source": [
    "### calculate summary statistics for each visible accessibility features quartile, stratified by a category of interest ###\n",
    "**Inputs:**\n",
    "- **inData** (pandas dataframe) - contains image scores and visible accessibility features quartile classifications \n",
    "- **cat** (string) - category to stratify summary statistics by\n",
    "- **val** (int) - specific value of the stratified category to calulcate summary statistics for\n",
    "\n",
    "**Outputs:**\n",
    "- **mean** (pandas dataframe) - contains mean, std, and n for all visible accessibiilty features quartiles of the stratified analysis"
   ]
  },
  {
   "cell_type": "code",
   "execution_count": 18,
   "id": "341f3cd8",
   "metadata": {},
   "outputs": [],
   "source": [
    "def calcPerfByAccess(inData,cat,val):\n",
    "    mean = inData.groupby('access',as_index=False)['score'].mean()\n",
    "    count = inData.groupby('access',as_index=False)['score'].count()\n",
    "    std = inData.groupby('access',as_index=False)['score'].std()\n",
    "    mean['cat'] = cat\n",
    "    mean['val'] = val\n",
    "    mean['access'] = [\n",
    "        'NA','Q1','Q2','Q3','Q4'               \n",
    "                       ]\n",
    "    mean['std'] = std['score']\n",
    "    mean['n'] = count['score']\n",
    "    return(mean)"
   ]
  },
  {
   "cell_type": "markdown",
   "id": "24d05f59",
   "metadata": {},
   "source": [
    "### calculate summary statistics, stratified by urbanicity and a second stratification category ###\n",
    "**Inputs:**\n",
    "- **cat** (string) - second stratification category\n",
    "- **inData** (pandas dataframe) - contains image scores and urbanicity features\n",
    "\n",
    "**Outputs:**\n",
    "- **df** (pandas dataframe) - contains calculated summary statistics"
   ]
  },
  {
   "cell_type": "code",
   "execution_count": 19,
   "id": "1098292d",
   "metadata": {},
   "outputs": [],
   "source": [
    "def calcUrbanByCat(cat,inData):\n",
    "    uniquecats = list(set(inData[cat]))\n",
    "    outData = []\n",
    "    for curcat in uniquecats:\n",
    "        subsetData = inData[inData[cat]==curcat]\n",
    "        outData.append(calcPerfByUrban(subsetData,cat,curcat))\n",
    "    df = ps.concat(outData)\n",
    "    return(df)"
   ]
  },
  {
   "cell_type": "markdown",
   "id": "b0ef7c22",
   "metadata": {},
   "source": [
    "### calculate summary statistics, stratified by road type and a second stratification category ###\n",
    "**Inputs:**\n",
    "- **cat** (string) - second stratification category\n",
    "- **inData** (pandas dataframe) - contains image scores and road type features\n",
    "\n",
    "**Outputs:**\n",
    "- **df** (pandas dataframe) - contains calculated summary statistics"
   ]
  },
  {
   "cell_type": "code",
   "execution_count": 20,
   "id": "6a0626cb",
   "metadata": {},
   "outputs": [],
   "source": [
    "def calcRoadByCat(cat,inData):\n",
    "    uniquecats = list(set(inData[cat]))\n",
    "    outData = []\n",
    "    for curcat in uniquecats:\n",
    "        subsetData = inData[inData[cat]==curcat]\n",
    "        outData.append(calcPerfByRoad(subsetData,cat,curcat))\n",
    "    df = ps.concat(outData)\n",
    "    return(df)"
   ]
  },
  {
   "cell_type": "markdown",
   "id": "037a730f",
   "metadata": {},
   "source": [
    "### calculate summary statistics, stratified by pariticipant census division and a second stratification category ###\n",
    "**Inputs:**\n",
    "- **cat** (string) - second stratification category\n",
    "- **inData** (pandas dataframe) - contains image scores and participant census division\n",
    "\n",
    "**Outputs:**\n",
    "- **df** (pandas dataframe) - contains calculated summary statistics"
   ]
  },
  {
   "cell_type": "code",
   "execution_count": 20,
   "id": "359de263",
   "metadata": {},
   "outputs": [],
   "source": [
    "def calcHitByCat(cat,inData):\n",
    "    uniquecats = list(set(inData[cat]))\n",
    "    outData = []\n",
    "    for curcat in uniquecats:\n",
    "        subsetData = inData[inData[cat]==curcat]\n",
    "        outData.append(calcPerfByHit(subsetData,cat,curcat))\n",
    "    df = ps.concat(outData)\n",
    "    return(df)"
   ]
  },
  {
   "cell_type": "markdown",
   "id": "b7b0a803",
   "metadata": {},
   "source": [
    "### calculate summary statistics, stratified by visible nature quartile and a second stratification category ###\n",
    "**Inputs:**\n",
    "- **cat** (string) - second stratification category\n",
    "- **inData** (pandas dataframe) - contains image scores and visible nature quartile\n",
    "\n",
    "**Outputs:**\n",
    "- **df** (pandas dataframe) - contains calculated summary statistics"
   ]
  },
  {
   "cell_type": "code",
   "execution_count": 21,
   "id": "8b9b166c",
   "metadata": {},
   "outputs": [],
   "source": [
    "def calcGreenByCat(cat,inData):\n",
    "    uniquecats = list(set(inData[cat]))\n",
    "    outData = []\n",
    "    for curcat in uniquecats:\n",
    "        subsetData = inData[inData[cat]==curcat]\n",
    "        outData.append(calcPerfByGreen(subsetData,cat,curcat))\n",
    "    df = ps.concat(outData)\n",
    "    return(df)"
   ]
  },
  {
   "cell_type": "markdown",
   "id": "18669d67",
   "metadata": {},
   "source": [
    "### calculate summary statistics, stratified by visible built environment and a second stratification category ###\n",
    "**Inputs:**\n",
    "- **cat** (string) - second stratification category\n",
    "- **inData** (pandas dataframe) - contains image scores and visible built environment\n",
    "\n",
    "**Outputs:**\n",
    "- **df** (pandas dataframe) - contains calculated summary statistics"
   ]
  },
  {
   "cell_type": "code",
   "execution_count": 23,
   "id": "b51ff103",
   "metadata": {},
   "outputs": [],
   "source": [
    "def calcBuiltByCat(cat,inData):\n",
    "    uniquecats = list(set(inData[cat]))\n",
    "    outData = []\n",
    "    for curcat in uniquecats:\n",
    "        subsetData = inData[inData[cat]==curcat]\n",
    "        outData.append(calcPerfByBuilt(subsetData,cat,curcat))\n",
    "    df = ps.concat(outData)\n",
    "    return(df)"
   ]
  },
  {
   "cell_type": "markdown",
   "id": "e1df1b2c",
   "metadata": {},
   "source": [
    "### calculate summary statistics, stratified by visible road quartile and a second stratification category ###\n",
    "**Inputs:**\n",
    "- **cat** (string) - second stratification category\n",
    "- **inData** (pandas dataframe) - contains image scores and visible road quartile\n",
    "\n",
    "**Outputs:**\n",
    "- **df** (pandas dataframe) - contains calculated summary statistics"
   ]
  },
  {
   "cell_type": "code",
   "execution_count": 24,
   "id": "ee3e82f2",
   "metadata": {},
   "outputs": [],
   "source": [
    "def calcVRoadByCat(cat,inData):\n",
    "    uniquecats = list(set(inData[cat]))\n",
    "    outData = []\n",
    "    for curcat in uniquecats:\n",
    "        subsetData = inData[inData[cat]==curcat]\n",
    "        outData.append(calcPerfByBuilt(subsetData,cat,curcat))\n",
    "    df = ps.concat(outData)\n",
    "    return(df)"
   ]
  },
  {
   "cell_type": "markdown",
   "id": "6e8d38aa",
   "metadata": {},
   "source": [
    "### calculate summary statistics, stratified by visible tree quartile and a second stratification category ###\n",
    "**Inputs:**\n",
    "- **cat** (string) - second stratification category\n",
    "- **inData** (pandas dataframe) - contains image scores and visible tree quartile\n",
    "\n",
    "**Outputs:**\n",
    "- **df** (pandas dataframe) - contains calculated summary statistics"
   ]
  },
  {
   "cell_type": "code",
   "execution_count": 25,
   "id": "b8db16e5",
   "metadata": {},
   "outputs": [],
   "source": [
    "def calcTreesByCat(cat,inData):\n",
    "    uniquecats = list(set(inData[cat]))\n",
    "    outData = []\n",
    "    for curcat in uniquecats:\n",
    "        subsetData = inData[inData[cat]==curcat]\n",
    "        outData.append(calcPerfByTrees(subsetData,cat,curcat))\n",
    "    df = ps.concat(outData)\n",
    "    return(df)"
   ]
  },
  {
   "cell_type": "markdown",
   "id": "76a4a5cd",
   "metadata": {},
   "source": [
    "### calculate summary statistics, stratified by visible accessibility features quartile and a second stratification category ###\n",
    "**Inputs:**\n",
    "- **cat** (string) - second stratification category\n",
    "- **inData** (pandas dataframe) - contains image scores and visible accessibility quartile\n",
    "\n",
    "**Outputs:**\n",
    "- **df** (pandas dataframe) - contains calculated summary statistics"
   ]
  },
  {
   "cell_type": "code",
   "execution_count": 26,
   "id": "4129f7f9",
   "metadata": {},
   "outputs": [],
   "source": [
    "def calcAccessByCat(cat,inData):\n",
    "    uniquecats = list(set(inData[cat]))\n",
    "    outData = []\n",
    "    for curcat in uniquecats:\n",
    "        subsetData = inData[inData[cat]==curcat]\n",
    "        outData.append(calcPerfByAccess(subsetData,cat,curcat))\n",
    "    df = ps.concat(outData)\n",
    "    return(df)"
   ]
  },
  {
   "cell_type": "markdown",
   "id": "6412b2dd",
   "metadata": {},
   "source": [
    "### wrapper function to calculate summary statistics for all second stratification levels ###\n",
    "**Inputs:**\n",
    "- **fxn1** (function) - calculatie summary statistics for a first stratification without a second strat level\n",
    "- **fxn2** (function) - calculate summary statistics using a second stratification level\n",
    "- **data** (pandas dataframe) - contains image scores and all stratification variables\n",
    "- **outputFile** (string) - relative filepath for storing compiled summary statistics"
   ]
  },
  {
   "cell_type": "code",
   "execution_count": 41,
   "id": "e21d6e2e",
   "metadata": {},
   "outputs": [],
   "source": [
    "def calcPerfForExp(fxn1,fxn2,data,outputFile):\n",
    "    allVals = fxn1(data,'all','all')\n",
    "    age = fxn2('age',data)\n",
    "    gender = fxn2('gender',data)\n",
    "    race = fxn2('race',data)\n",
    "    ethnicity = fxn2('ethnicity',data)\n",
    "    division = fxn2('h_division',data)\n",
    "    covid = fxn2('covid',data)\n",
    "    education = fxn2('education',data)\n",
    "    df = ps.concat([allVals,age,gender,race,ethnicity,division,covid,education])\n",
    "    df.to_csv(PARENT_FOLDER + outputFile,index=False)"
   ]
  },
  {
   "cell_type": "markdown",
   "id": "d51dea4c",
   "metadata": {},
   "source": [
    "### calculate all summary statistics for a single perception, including all first and second stratification levels ###\n",
    "**Inputs:**\n",
    "- **inData** (pandas dataframe) - contains image scores and all stratification variables\n",
    "- **label** (string) - name of the perception to calculate summary statistics for"
   ]
  },
  {
   "cell_type": "code",
   "execution_count": 45,
   "id": "d136a4c8",
   "metadata": {},
   "outputs": [],
   "source": [
    "def calcValsSingleOutcome(inData,label):\n",
    "    calcPerfForExp(calcPerfByUrban,calcUrbanByCat,inData,label + '_urban_mturk.csv')\n",
    "    calcPerfForExp(calcPerfByRoad,calcRoadByCat,inData,label + '_road_mturk.csv')\n",
    "    calcPerfForExp(calcPerfByAccess,calcAccessByCat,inData,label + '_access_mturk.csv')\n",
    "    calcPerfForExp(calcPerfByTrees,calcTreesByCat,inData,label + '_trees_mturk.csv')\n",
    "    calcPerfForExp(calcPerfByVRoad,calcVRoadByCat,inData,label + '_vroad_mturk.csv')\n",
    "    calcPerfForExp(calcPerfByBuilt,calcBuiltByCat,inData,label + '_built_mturk.csv')\n",
    "    calcPerfForExp(calcPerfByGreen,calcGreenByCat,inData,label + '_green_mturk.csv')\n",
    "    calcPerfForExp(calcPerfByHit,calcHitByCat,inData,label + '_hit_mturk.csv')"
   ]
  },
  {
   "cell_type": "markdown",
   "id": "71404a9e",
   "metadata": {},
   "source": [
    "### preprocess and then calculate summary statistics for a single perception ###\n",
    "**Inputs:**\n",
    "- outcome (string) - name of the perception to calculate summary statistics for\n",
    "- inData (pandas dataframe) - contains image scores and all stratification variables"
   ]
  },
  {
   "cell_type": "code",
   "execution_count": 60,
   "id": "46a1f09c",
   "metadata": {},
   "outputs": [],
   "source": [
    "def calcSingleOutcome(outcome,inData):\n",
    "    subsetData = inData[inData['label']==outcome]\n",
    "    nVotes = subsetData.count()[0]\n",
    "    converted = []\n",
    "    for row in range(nVotes):\n",
    "        converted.append(convertVoteToImageScores(subsetData.iloc[row],image_meta))\n",
    "    converted2 = ps.concat(converted)\n",
    "    converted3 = redefineGender(converted2)\n",
    "    converted3 = redefineEthnicity(converted3)\n",
    "    calcValsSingleOutcome(converted3,outcome)"
   ]
  },
  {
   "cell_type": "markdown",
   "id": "a2309c6e",
   "metadata": {},
   "source": [
    "### calculate summary statistics for all perceptions ###"
   ]
  },
  {
   "cell_type": "code",
   "execution_count": 48,
   "id": "fd41b195",
   "metadata": {},
   "outputs": [
    {
     "name": "stdout",
     "output_type": "stream",
     "text": [
      "processing outcome relaxing\n"
     ]
    },
    {
     "name": "stderr",
     "output_type": "stream",
     "text": [
      "C:\\Users\\larki\\AppData\\Local\\Temp\\ipykernel_13844\\995151624.py:5: SettingWithCopyWarning: \n",
      "A value is trying to be set on a copy of a slice from a DataFrame.\n",
      "Try using .loc[row_indexer,col_indexer] = value instead\n",
      "\n",
      "See the caveats in the documentation: https://pandas.pydata.org/pandas-docs/stable/user_guide/indexing.html#returning-a-view-versus-a-copy\n",
      "  otherData['gender'] = 'Other'\n",
      "C:\\Users\\larki\\AppData\\Local\\Temp\\ipykernel_13844\\975462302.py:4: SettingWithCopyWarning: \n",
      "A value is trying to be set on a copy of a slice from a DataFrame.\n",
      "Try using .loc[row_indexer,col_indexer] = value instead\n",
      "\n",
      "See the caveats in the documentation: https://pandas.pydata.org/pandas-docs/stable/user_guide/indexing.html#returning-a-view-versus-a-copy\n",
      "  otherData['race']= 'OT'\n"
     ]
    },
    {
     "name": "stdout",
     "output_type": "stream",
     "text": [
      "processing outcome nature\n"
     ]
    },
    {
     "name": "stderr",
     "output_type": "stream",
     "text": [
      "C:\\Users\\larki\\AppData\\Local\\Temp\\ipykernel_13844\\995151624.py:5: SettingWithCopyWarning: \n",
      "A value is trying to be set on a copy of a slice from a DataFrame.\n",
      "Try using .loc[row_indexer,col_indexer] = value instead\n",
      "\n",
      "See the caveats in the documentation: https://pandas.pydata.org/pandas-docs/stable/user_guide/indexing.html#returning-a-view-versus-a-copy\n",
      "  otherData['gender'] = 'Other'\n",
      "C:\\Users\\larki\\AppData\\Local\\Temp\\ipykernel_13844\\975462302.py:4: SettingWithCopyWarning: \n",
      "A value is trying to be set on a copy of a slice from a DataFrame.\n",
      "Try using .loc[row_indexer,col_indexer] = value instead\n",
      "\n",
      "See the caveats in the documentation: https://pandas.pydata.org/pandas-docs/stable/user_guide/indexing.html#returning-a-view-versus-a-copy\n",
      "  otherData['race']= 'OT'\n"
     ]
    },
    {
     "name": "stdout",
     "output_type": "stream",
     "text": [
      "processing outcome safe_walk\n"
     ]
    },
    {
     "name": "stderr",
     "output_type": "stream",
     "text": [
      "C:\\Users\\larki\\AppData\\Local\\Temp\\ipykernel_13844\\995151624.py:5: SettingWithCopyWarning: \n",
      "A value is trying to be set on a copy of a slice from a DataFrame.\n",
      "Try using .loc[row_indexer,col_indexer] = value instead\n",
      "\n",
      "See the caveats in the documentation: https://pandas.pydata.org/pandas-docs/stable/user_guide/indexing.html#returning-a-view-versus-a-copy\n",
      "  otherData['gender'] = 'Other'\n",
      "C:\\Users\\larki\\AppData\\Local\\Temp\\ipykernel_13844\\975462302.py:4: SettingWithCopyWarning: \n",
      "A value is trying to be set on a copy of a slice from a DataFrame.\n",
      "Try using .loc[row_indexer,col_indexer] = value instead\n",
      "\n",
      "See the caveats in the documentation: https://pandas.pydata.org/pandas-docs/stable/user_guide/indexing.html#returning-a-view-versus-a-copy\n",
      "  otherData['race']= 'OT'\n"
     ]
    },
    {
     "name": "stdout",
     "output_type": "stream",
     "text": [
      "processing outcome beauty\n"
     ]
    },
    {
     "name": "stderr",
     "output_type": "stream",
     "text": [
      "C:\\Users\\larki\\AppData\\Local\\Temp\\ipykernel_13844\\995151624.py:5: SettingWithCopyWarning: \n",
      "A value is trying to be set on a copy of a slice from a DataFrame.\n",
      "Try using .loc[row_indexer,col_indexer] = value instead\n",
      "\n",
      "See the caveats in the documentation: https://pandas.pydata.org/pandas-docs/stable/user_guide/indexing.html#returning-a-view-versus-a-copy\n",
      "  otherData['gender'] = 'Other'\n",
      "C:\\Users\\larki\\AppData\\Local\\Temp\\ipykernel_13844\\975462302.py:4: SettingWithCopyWarning: \n",
      "A value is trying to be set on a copy of a slice from a DataFrame.\n",
      "Try using .loc[row_indexer,col_indexer] = value instead\n",
      "\n",
      "See the caveats in the documentation: https://pandas.pydata.org/pandas-docs/stable/user_guide/indexing.html#returning-a-view-versus-a-copy\n",
      "  otherData['race']= 'OT'\n"
     ]
    },
    {
     "name": "stdout",
     "output_type": "stream",
     "text": [
      "processing outcome safe_crime\n"
     ]
    },
    {
     "name": "stderr",
     "output_type": "stream",
     "text": [
      "C:\\Users\\larki\\AppData\\Local\\Temp\\ipykernel_13844\\995151624.py:5: SettingWithCopyWarning: \n",
      "A value is trying to be set on a copy of a slice from a DataFrame.\n",
      "Try using .loc[row_indexer,col_indexer] = value instead\n",
      "\n",
      "See the caveats in the documentation: https://pandas.pydata.org/pandas-docs/stable/user_guide/indexing.html#returning-a-view-versus-a-copy\n",
      "  otherData['gender'] = 'Other'\n",
      "C:\\Users\\larki\\AppData\\Local\\Temp\\ipykernel_13844\\975462302.py:4: SettingWithCopyWarning: \n",
      "A value is trying to be set on a copy of a slice from a DataFrame.\n",
      "Try using .loc[row_indexer,col_indexer] = value instead\n",
      "\n",
      "See the caveats in the documentation: https://pandas.pydata.org/pandas-docs/stable/user_guide/indexing.html#returning-a-view-versus-a-copy\n",
      "  otherData['race']= 'OT'\n"
     ]
    }
   ],
   "source": [
    "outcomes = list(set(mturk['label']))\n",
    "for outcome in outcomes:\n",
    "    print(\"processing outcome %s\" %(outcome))\n",
    "    calcSingleOutcome(outcome,mturk)"
   ]
  }
 ],
 "metadata": {
  "kernelspec": {
   "display_name": "Python 3 (ipykernel)",
   "language": "python",
   "name": "python3"
  },
  "language_info": {
   "codemirror_mode": {
    "name": "ipython",
    "version": 3
   },
   "file_extension": ".py",
   "mimetype": "text/x-python",
   "name": "python",
   "nbconvert_exporter": "python",
   "pygments_lexer": "ipython3",
   "version": "3.9.13"
  }
 },
 "nbformat": 4,
 "nbformat_minor": 5
}
